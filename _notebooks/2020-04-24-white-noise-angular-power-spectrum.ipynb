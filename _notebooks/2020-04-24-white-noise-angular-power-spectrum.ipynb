{
 "cells": [
  {
   "cell_type": "code",
   "execution_count": null,
   "metadata": {},
   "outputs": [],
   "source": [
    "import healpy as hp\n",
    "import numpy as np\n",
    "%matplotlib inline\n",
    "import matplotlib.pyplot as plt\n",
    "import astropy.units as u"
   ]
  },
  {
   "cell_type": "markdown",
   "metadata": {},
   "source": [
    "# White noise NET in Radio-astronomy and Cosmology\n",
    "> Create a white noise map and compare with power spectrum expected from the NET\n",
    "- categories: [cosmology, python, healpy]"
   ]
  },
  {
   "cell_type": "markdown",
   "metadata": {},
   "source": [
    "Noise-Equivalent-Temperature, it is a measure of sensitivity of a detector, in cosmology, it is often quoted\n",
    "in $\\mu K \\sqrt(s)$, i.e. it is the sensitivity per unit time and can be divided by the integration time to\n",
    "get the actual standard deviation of the white noise of the instrument.\n",
    "\n",
    "For example let's consider a white noise NET of $200 \\mu K \\sqrt(s)$\n",
    "\n",
    "it means that if you integrate for 100 seconds for each pixel, the standard deviation will be $20 \\mu K$."
   ]
  },
  {
   "cell_type": "code",
   "execution_count": null,
   "metadata": {},
   "outputs": [],
   "source": [
    "net = 200 * u.Unit(\"uK * sqrt(s)\")"
   ]
  },
  {
   "cell_type": "code",
   "execution_count": null,
   "metadata": {},
   "outputs": [],
   "source": [
    "net"
   ]
  },
  {
   "cell_type": "code",
   "execution_count": null,
   "metadata": {},
   "outputs": [],
   "source": [
    "integration_time_per_pixel = 100 * u.s"
   ]
  },
  {
   "cell_type": "code",
   "execution_count": null,
   "metadata": {},
   "outputs": [],
   "source": [
    "standard_deviation = net / np.sqrt(integration_time_per_pixel)"
   ]
  },
  {
   "cell_type": "code",
   "execution_count": null,
   "metadata": {},
   "outputs": [],
   "source": [
    "standard_deviation = 2 * u.uK"
   ]
  },
  {
   "cell_type": "markdown",
   "metadata": {},
   "source": [
    "## Create a white noise map\n",
    "\n",
    "Now that we have an estimate of the standard deviation per pixel, we can use `numpy` to create a map of gaussian white noise."
   ]
  },
  {
   "cell_type": "code",
   "execution_count": null,
   "metadata": {},
   "outputs": [],
   "source": [
    "nside = 128\n",
    "npix = hp.nside2npix(nside)"
   ]
  },
  {
   "cell_type": "code",
   "execution_count": null,
   "metadata": {},
   "outputs": [],
   "source": [
    "m = np.random.normal(scale = standard_deviation.value, size=npix) * standard_deviation.unit"
   ]
  },
  {
   "cell_type": "code",
   "execution_count": null,
   "metadata": {},
   "outputs": [],
   "source": [
    "hp.mollview(m, unit=m.unit, title=\"White noise map\")"
   ]
  },
  {
   "cell_type": "markdown",
   "metadata": {},
   "source": [
    "## Power spectrum\n",
    "\n",
    "Finally we can compute the angular power spectrum with `anafast`, i.e. the power as a function of the angular scales, from low $\\ell$ values for large angular scales, to high $\\ell$ values for small angular scales.\n",
    "\n",
    "At low $\\ell$ there is not much statistics and the power spectrum is biased, but if we exclude lower ells, we can have an estimate of the white noise $C_\\ell$ coefficients. We can then compare with the theoretical power computed as:\n",
    "\n",
    "$$ C_\\ell = \\Omega_{pix}\\sigma $$\n",
    "\n",
    "Where: $\\Omega_{pix}$ is the pixel are in square-radians and $\\sigma$ is the white noise standard deviation."
   ]
  },
  {
   "cell_type": "code",
   "execution_count": null,
   "metadata": {},
   "outputs": [],
   "source": [
    "cl = hp.anafast(m)"
   ]
  },
  {
   "cell_type": "code",
   "execution_count": null,
   "metadata": {},
   "outputs": [],
   "source": [
    "cl[100:].mean()"
   ]
  },
  {
   "cell_type": "code",
   "execution_count": null,
   "metadata": {},
   "outputs": [],
   "source": [
    "pixel_area = hp.nside2pixarea(nside)"
   ]
  },
  {
   "cell_type": "code",
   "execution_count": null,
   "metadata": {},
   "outputs": [],
   "source": [
    "white_noise_cl = standard_deviation.value**2 * pixel_area"
   ]
  },
  {
   "cell_type": "code",
   "execution_count": null,
   "metadata": {},
   "outputs": [],
   "source": [
    "white_noise_cl"
   ]
  },
  {
   "cell_type": "code",
   "execution_count": null,
   "metadata": {},
   "outputs": [],
   "source": [
    "plt.figure(figsize=(6,4))\n",
    "plt.loglog(cl, label=\"Map power spectrum\", alpha=.7)\n",
    "plt.hlines(white_noise_cl, 0, len(cl), label=\"White noise level\")\n",
    "plt.xlabel(\"$\\ell$\")\n",
    "plt.ylabel(\"$C_\\ell [\\mu K ^ 2]$\");"
   ]
  },
  {
   "cell_type": "code",
   "execution_count": null,
   "metadata": {},
   "outputs": [],
   "source": []
  }
 ],
 "metadata": {
  "kernelspec": {
   "display_name": "condajupynersc",
   "language": "python",
   "name": "condajupynersc"
  },
  "language_info": {
   "codemirror_mode": {
    "name": "ipython",
    "version": 3
   },
   "file_extension": ".py",
   "mimetype": "text/x-python",
   "name": "python",
   "nbconvert_exporter": "python",
   "pygments_lexer": "ipython3",
   "version": "3.6.8"
  }
 },
 "nbformat": 4,
 "nbformat_minor": 4
}
